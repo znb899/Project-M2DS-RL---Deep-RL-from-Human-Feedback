{
  "nbformat": 4,
  "nbformat_minor": 0,
  "metadata": {
    "colab": {
      "provenance": []
    },
    "kernelspec": {
      "name": "python3",
      "display_name": "Python 3"
    },
    "language_info": {
      "name": "python"
    }
  },
  "cells": [
    {
      "cell_type": "code",
      "source": [
        "! pip install pretty_midi"
      ],
      "metadata": {
        "colab": {
          "base_uri": "https://localhost:8080/"
        },
        "id": "KJiQcBBQu4iH",
        "outputId": "be2d96fb-069c-4a3b-c973-b698dd7ac7bd"
      },
      "execution_count": 1,
      "outputs": [
        {
          "output_type": "stream",
          "name": "stdout",
          "text": [
            "Looking in indexes: https://pypi.org/simple, https://us-python.pkg.dev/colab-wheels/public/simple/\n",
            "Requirement already satisfied: pretty_midi in /usr/local/lib/python3.8/dist-packages (0.2.9)\n",
            "Requirement already satisfied: six in /usr/local/lib/python3.8/dist-packages (from pretty_midi) (1.15.0)\n",
            "Requirement already satisfied: mido>=1.1.16 in /usr/local/lib/python3.8/dist-packages (from pretty_midi) (1.2.10)\n",
            "Requirement already satisfied: numpy>=1.7.0 in /usr/local/lib/python3.8/dist-packages (from pretty_midi) (1.21.6)\n"
          ]
        }
      ]
    },
    {
      "cell_type": "code",
      "execution_count": 2,
      "metadata": {
        "id": "TKrK70Dsr_Ma"
      },
      "outputs": [],
      "source": [
        "import numpy as np\n",
        "import scipy.signal\n",
        "\n",
        "import tensorflow as tf\n",
        "from tensorflow.keras import Model\n",
        "from tensorflow.keras.layers import LSTM, Dropout, Dense, BatchNormalization\n",
        "import keras.backend as K"
      ]
    },
    {
      "cell_type": "code",
      "source": [
        "import glob\n",
        "import urllib.request\n",
        "import pretty_midi\n",
        "\n",
        "import matplotlib.pyplot as plt\n",
        "import time\n",
        "import ipywidgets as widgets\n",
        "from IPython.display import clear_output\n",
        "import IPython"
      ],
      "metadata": {
        "id": "RlDyMhNLuygM"
      },
      "execution_count": 3,
      "outputs": []
    },
    {
      "cell_type": "code",
      "source": [
        "n_x = 9\n",
        "nb_units = 128\n",
        "num_layers = 3*2\n",
        "batch_size = 50\n",
        "\n",
        "discount = 0.95\n",
        "\n",
        "sequence_len = 20\n",
        "\n",
        "step = 0.3\n",
        "sleep = 7\n",
        "output = widgets.Output()\n",
        "\n",
        "mu = []\n",
        "actions = []\n",
        "observations = []"
      ],
      "metadata": {
        "id": "BC0kmVsiRWzU"
      },
      "execution_count": 4,
      "outputs": []
    },
    {
      "cell_type": "markdown",
      "source": [
        "## Load data"
      ],
      "metadata": {
        "id": "KXuyGXa6h2S3"
      }
    },
    {
      "cell_type": "code",
      "source": [
        "DIR = './'\n",
        "\n",
        "midiFile_l = ['cs1-2all.mid', 'cs5-1pre.mid', 'cs4-1pre.mid', 'cs3-5bou.mid', 'cs1-4sar.mid', 'cs2-5men.mid', 'cs3-3cou.mid', 'cs2-3cou.mid', 'cs1-6gig.mid', 'cs6-4sar.mid', 'cs4-5bou.mid', 'cs4-3cou.mid', 'cs5-3cou.mid', 'cs6-5gav.mid', 'cs6-6gig.mid', 'cs6-2all.mid', 'cs2-1pre.mid', 'cs3-1pre.mid', 'cs3-6gig.mid', 'cs2-6gig.mid', 'cs2-4sar.mid', 'cs3-4sar.mid', 'cs1-5men.mid', 'cs1-3cou.mid', 'cs6-1pre.mid', 'cs2-2all.mid', 'cs3-2all.mid', 'cs1-1pre.mid', 'cs5-2all.mid', 'cs4-2all.mid', 'cs5-5gav.mid', 'cs4-6gig.mid', 'cs5-6gig.mid', 'cs5-4sar.mid', 'cs4-4sar.mid', 'cs6-3cou.mid']\n",
        "for midiFile in midiFile_l:\n",
        "  #if os.path.isfile(DIR + midiFile) is None:\n",
        "  urllib.request.urlretrieve (\"http://www.jsbach.net/midi/\" + midiFile, DIR + midiFile)\n",
        "nbExample = len(midiFile_l)\n",
        "\n",
        "midiFile_l = glob.glob(DIR + 'cs*.mid')\n",
        "\n",
        "X_list = []\n",
        "\n",
        "for midiFile in midiFile_l:\n",
        "    # read the MIDI file\n",
        "    midi_data = pretty_midi.PrettyMIDI(midiFile)\n",
        "    note_l = [note.pitch for note in midi_data.instruments[0].notes]\n",
        "    \n",
        "    X_list.append(note_l)\n",
        "\n",
        "X_train_list = []\n",
        "y_train_list = []\n",
        "\n",
        "\n",
        "for X in X_list:\n",
        "  for i in range(len(X)-sequence_len):\n",
        "    array = np.array(X[i:1+i+sequence_len])\n",
        "    array -= min(array)\n",
        "    if max(array)<=n_x-1:\n",
        "      x = np.zeros((sequence_len, n_x))\n",
        "      y = np.zeros((n_x,))\n",
        "      for e in range(sequence_len):\n",
        "        x[e, array[e]] = 1\n",
        "      \n",
        "      y[array[sequence_len]] = 1\n",
        "      X_train_list.append(x)\n",
        "      y_train_list.append(y)\n",
        "\n",
        "songs = np.asarray(X_train_list)\n",
        "y_train = np.asarray(y_train_list)\n",
        "\n",
        "songs.shape"
      ],
      "metadata": {
        "id": "MlC1y4lXParI",
        "colab": {
          "base_uri": "https://localhost:8080/"
        },
        "outputId": "169fbccf-2387-446a-9fd5-d9c2877dea11"
      },
      "execution_count": 5,
      "outputs": [
        {
          "output_type": "execute_result",
          "data": {
            "text/plain": [
              "(492, 20, 9)"
            ]
          },
          "metadata": {},
          "execution_count": 5
        }
      ]
    },
    {
      "cell_type": "markdown",
      "source": [
        "## Reward"
      ],
      "metadata": {
        "id": "IHRQRiv1h9Az"
      }
    },
    {
      "cell_type": "code",
      "source": [
        "class Reward(Model):\n",
        "  def __init__(self, songs=songs):\n",
        "    super(Reward, self).__init__()\n",
        "    self.songs = songs\n",
        "    self.build_model()\n",
        "  \n",
        "  def build_model(self):\n",
        "    self.lstm1 = LSTM(nb_units, input_shape=(sequence_len, n_x), return_sequences=True)\n",
        "    self.batch_norm1 = BatchNormalization()\n",
        "    self.dropout1 = Dropout(0.2)\n",
        "    self.lstm2 = LSTM(nb_units, return_sequences=True)\n",
        "    self.batch_norm2 = BatchNormalization()\n",
        "    self.dropout2 = Dropout(0.2)\n",
        "    self.lstm3 = LSTM(nb_units, return_sequences=True)\n",
        "    self.batch_norm3 = BatchNormalization()\n",
        "    self.dropout3 = Dropout(0.2)\n",
        "    self.dense = Dense(n_x, activation='sigmoid')\n",
        " \n",
        "  def call_rewards(self, inputs):\n",
        "    observations, actions = inputs\n",
        "\n",
        "    x = self.lstm1(observations)\n",
        "    x = self.batch_norm1(x)\n",
        "    x = self.dropout1(x)\n",
        "    x = self.lstm2(x)\n",
        "    x = self.batch_norm2(x)\n",
        "    x = self.dropout2(x)\n",
        "    x = self.lstm3(x)\n",
        "    x = self.dense(x)\n",
        "\n",
        "    x = self.lstm1(tf.math.softmax(x))\n",
        "    x = self.batch_norm1(x)\n",
        "    x = self.lstm2(x)\n",
        "    x = self.batch_norm2(x)\n",
        "    x = self.lstm3(x)\n",
        "    x = self.batch_norm3(x)\n",
        "    x = self.dense(x)\n",
        "\n",
        "    x = tf.reshape(x, (-1, n_x))\n",
        "    actions = tf.reshape(actions, (-1,))\n",
        "    x = tf.gather(x, actions, axis=-1, batch_dims=1)\n",
        "    x = tf.reshape(x, (-1, sequence_len))\n",
        "\n",
        "    return x\n",
        "  \n",
        "  def reset(self, n):\n",
        "    return np.array(self.songs[np.random.randint(len(self.songs),  size=(n,))])\n",
        "  \n",
        "  def call(self, inputs):\n",
        "    observations, actions = inputs\n",
        "\n",
        "    actions1 = actions[:,0,:]\n",
        "    actions2 = actions[:,1,:]\n",
        "\n",
        "    x1 = self.call_rewards([observations, actions1])\n",
        "    x2 = self.call_rewards([observations, actions2])\n",
        "\n",
        "    x1 = tf.math.reduce_sum(x1, axis=-1)[:,None]\n",
        "    x2 = tf.math.reduce_sum(x2, axis=-1)[:,None]\n",
        "\n",
        "    x = tf.concat([x1, x2], axis=1)\n",
        "\n",
        "    return tf.nn.softmax(x)"
      ],
      "metadata": {
        "id": "UdVWEINcu0aE"
      },
      "execution_count": 6,
      "outputs": []
    },
    {
      "cell_type": "markdown",
      "source": [
        "### Pretraining reward"
      ],
      "metadata": {
        "id": "AJm0atMJiAAO"
      }
    },
    {
      "cell_type": "code",
      "source": [
        "re = Reward()\n",
        "re.compile(loss='binary_crossentropy', optimizer='adam', metrics=['accuracy'])"
      ],
      "metadata": {
        "id": "iW1gLuA4i-GT"
      },
      "execution_count": 7,
      "outputs": []
    },
    {
      "cell_type": "code",
      "source": [
        "# generating synthetic queries\n",
        "\n",
        "good_actions = np.argmax(songs, axis=-1)\n",
        "bad_actions = np.random.randint(n_x, size=good_actions.shape)\n",
        "\n",
        "actions = np.zeros((good_actions.shape[0],2,good_actions.shape[1]))\n",
        "\n",
        "mu = np.eye(2, dtype=int)[np.random.choice(2, good_actions.shape[0])]\n",
        "mu = mu.tolist()\n",
        "\n",
        "for i in range(good_actions.shape[0]):\n",
        "  if mu[i][0] == 1:\n",
        "    actions[i,0,:] = good_actions[i]\n",
        "    actions[i,1,:] = bad_actions[i]\n",
        "  else:\n",
        "    actions[i,1,:] = bad_actions[i]\n",
        "    actions[i,0,:] = good_actions[i]\n",
        "\n",
        "actions = actions.astype(int).tolist()\n",
        "\n",
        "observations = re.reset(good_actions.shape[0])\n",
        "observations = observations.reshape((good_actions.shape[0], -1, n_x)).tolist()"
      ],
      "metadata": {
        "id": "G-SMCuPiiFQZ"
      },
      "execution_count": 8,
      "outputs": []
    },
    {
      "cell_type": "code",
      "source": [
        "re.fit([np.asarray(observations),np.asarray(actions)], np.asarray(mu), epochs=12, batch_size=64)"
      ],
      "metadata": {
        "colab": {
          "base_uri": "https://localhost:8080/"
        },
        "id": "4RjgR7hpiIje",
        "outputId": "8a5d53a7-5ea4-4312-f676-a22f9e33c063"
      },
      "execution_count": 9,
      "outputs": [
        {
          "output_type": "stream",
          "name": "stdout",
          "text": [
            "Epoch 1/12\n",
            "8/8 [==============================] - 35s 453ms/step - loss: 0.9886 - accuracy: 0.4878\n",
            "Epoch 2/12\n",
            "8/8 [==============================] - 4s 445ms/step - loss: 0.7801 - accuracy: 0.5772\n",
            "Epoch 3/12\n",
            "8/8 [==============================] - 4s 554ms/step - loss: 0.6840 - accuracy: 0.6423\n",
            "Epoch 4/12\n",
            "8/8 [==============================] - 4s 479ms/step - loss: 0.6010 - accuracy: 0.6667\n",
            "Epoch 5/12\n",
            "8/8 [==============================] - 3s 433ms/step - loss: 0.5963 - accuracy: 0.6687\n",
            "Epoch 6/12\n",
            "8/8 [==============================] - 4s 442ms/step - loss: 0.5433 - accuracy: 0.7236\n",
            "Epoch 7/12\n",
            "8/8 [==============================] - 5s 593ms/step - loss: 0.5435 - accuracy: 0.7317\n",
            "Epoch 8/12\n",
            "8/8 [==============================] - 4s 438ms/step - loss: 0.5182 - accuracy: 0.7419\n",
            "Epoch 9/12\n",
            "8/8 [==============================] - 4s 441ms/step - loss: 0.4963 - accuracy: 0.7317\n",
            "Epoch 10/12\n",
            "8/8 [==============================] - 5s 644ms/step - loss: 0.4477 - accuracy: 0.8028\n",
            "Epoch 11/12\n",
            "8/8 [==============================] - 4s 455ms/step - loss: 0.4317 - accuracy: 0.7866\n",
            "Epoch 12/12\n",
            "8/8 [==============================] - 4s 447ms/step - loss: 0.3987 - accuracy: 0.8455\n"
          ]
        },
        {
          "output_type": "execute_result",
          "data": {
            "text/plain": [
              "<keras.callbacks.History at 0x7fb92b0a9a90>"
            ]
          },
          "metadata": {},
          "execution_count": 9
        }
      ]
    },
    {
      "cell_type": "markdown",
      "source": [
        "## Policy"
      ],
      "metadata": {
        "id": "llI1JL8SiWlj"
      }
    },
    {
      "cell_type": "code",
      "source": [
        "class Policy(Model):\n",
        "  def __init__(self):\n",
        "    super(Policy, self).__init__()\n",
        "    self.build_model()\n",
        "    \n",
        "  def build_model(self):\n",
        "    self.lstm1 = LSTM(nb_units, input_shape=(sequence_len, n_x), return_sequences=True)\n",
        "    self.batch_norm1 = BatchNormalization()\n",
        "    self.dropout1 = Dropout(0.2)\n",
        "    self.lstm2 = LSTM(nb_units, return_sequences=True)\n",
        "    self.batch_norm2 = BatchNormalization()\n",
        "    self.dropout2 = Dropout(0.2)\n",
        "    self.lstm3 = LSTM(nb_units)\n",
        "    self.batch_norm3 = BatchNormalization()\n",
        "    self.dropout3 = Dropout(0.2)\n",
        "    self.dense = Dense(n_x, activation='softmax')\n",
        "\n",
        "  def call(self, inputs):\n",
        "    x = self.lstm1(inputs)\n",
        "    x = self.batch_norm1(x)\n",
        "    x = self.lstm2(x)\n",
        "    x = self.batch_norm2(x)\n",
        "    x = self.lstm3(x)\n",
        "    x = self.batch_norm3(x)\n",
        "    x = self.dense(x)\n",
        "    x = tf.reshape(x, (-1,1,n_x))\n",
        "\n",
        "    probas, actions = [], []\n",
        "    for _ in range(sequence_len):\n",
        "      x = self.lstm1(x)\n",
        "      x = self.batch_norm1(x)\n",
        "      x = self.dropout1(x)\n",
        "      x = self.lstm2(x)\n",
        "      x = self.batch_norm2(x)\n",
        "      x = self.dropout2(x)\n",
        "      x = self.lstm3(x)\n",
        "      x = self.batch_norm3(x)\n",
        "      x = self.dropout3(x)\n",
        "      x = self.dense(x)\n",
        "\n",
        "      action = tf.random.categorical(x, 1)\n",
        "\n",
        "      probas.append(x)\n",
        "      actions.append(action)\n",
        "\n",
        "      x = tf.one_hot(action, n_x)\n",
        "    \n",
        "    probas = tf.reshape(tf.concat(probas, axis=1), (-1, sequence_len, n_x))\n",
        "    actions = tf.concat(actions, 1)\n",
        "\n",
        "    return probas, actions\n",
        "  \n",
        "  def get_queries(self):\n",
        "    observations = re.reset(1)\n",
        "    _, actions1 = self.call(observations)\n",
        "    _, actions2 = self.call(observations)\n",
        "\n",
        "    return tf.concat([actions1, actions2], 0), observations\n",
        "\n",
        "  def hf_train(self):\n",
        "    optimizer = tf.keras.optimizers.Adam()\n",
        "\n",
        "    observations = re.reset(batch_size)\n",
        "\n",
        "    with tf.GradientTape() as tape:\n",
        "      probs, actions = self.call(observations)\n",
        "\n",
        "      probs = tf.reshape(probs, (-1,n_x))\n",
        "      actions = tf.reshape(actions, (-1,))\n",
        "\n",
        "      rewards = re.call_rewards([observations, tf.reshape(actions, (-1, sequence_len))])\n",
        "      # rewards = scipy.signal.lfilter([1.], [1, -discount], rewards[::-1])[::-1]\n",
        "\n",
        "      ls = tf.gather(probs, actions, axis=-1, batch_dims=1)\n",
        "      ls = tf.reshape(ls, (batch_size, sequence_len))\n",
        "      ls = -tf.math.log(ls)\n",
        "      \n",
        "      ls = tf.multiply(ls, rewards)\n",
        "      ls = tf.reduce_mean(ls)\n",
        "    \n",
        "    variables = self.trainable_variables\n",
        "    gradients = tape.gradient(ls, variables)\n",
        "    optimizer.apply_gradients(zip(gradients, variables))\n",
        "      \n",
        "    return ls.numpy()"
      ],
      "metadata": {
        "id": "JBT2J7bb5-Lz"
      },
      "execution_count": 10,
      "outputs": []
    },
    {
      "cell_type": "markdown",
      "source": [
        "## Human feedback"
      ],
      "metadata": {
        "id": "5wvSsGQRimFK"
      }
    },
    {
      "cell_type": "code",
      "source": [
        "class HumanFeedback():\n",
        "  def get_midi_data(self, actions_):\n",
        "    data = []\n",
        "    for e in [0,1]:\n",
        "      note_l = actions_[e]\n",
        "      new_midi_data = pretty_midi.PrettyMIDI()\n",
        "      cello_program = pretty_midi.instrument_name_to_program('Cello')\n",
        "      cello = pretty_midi.Instrument(program=cello_program)\n",
        "      t = 0\n",
        "      for note_number in note_l:\n",
        "          myNote = pretty_midi.Note(velocity=100, pitch=int(note_number)+70, start=t, end=t+step)\n",
        "          cello.notes.append(myNote)\n",
        "          t += step\n",
        "      new_midi_data.instruments.append(cello)\n",
        "      data.append(new_midi_data.synthesize(fs=44100))\n",
        "    return data\n",
        "      \n",
        "  def display(self, actions_, observations_):\n",
        "    global mu, actions, observations\n",
        "\n",
        "    data = self.get_midi_data(actions_)\n",
        "\n",
        "    display_1 = IPython.display.Audio(data[0], autoplay=True, rate=44100)\n",
        "    display_2 = IPython.display.Audio(data[1], autoplay=True, rate=44100)\n",
        "\n",
        "    IPython.display.display(display_1)\n",
        "    time.sleep(sleep)\n",
        "    IPython.display.display(display_2)\n",
        "\n",
        "    m = input()\n",
        "\n",
        "    if m == '1':\n",
        "      mu.append([1,0])\n",
        "    if m == '2':\n",
        "      mu.append([0,1])\n",
        "    \n",
        "    actions.append(np.asarray(actions_).tolist())\n",
        "    observations.append(np.asarray(observations_).tolist())\n",
        "\n",
        "    clear_output()"
      ],
      "metadata": {
        "id": "s7NTTNCDCA1Q"
      },
      "execution_count": 11,
      "outputs": []
    },
    {
      "cell_type": "code",
      "source": [
        "hf = HumanFeedback()\n",
        "pi = Policy()"
      ],
      "metadata": {
        "id": "ZUuo96sUGdK3"
      },
      "execution_count": 12,
      "outputs": []
    },
    {
      "cell_type": "code",
      "source": [
        "for i in range(5): # Doesn't work\n",
        "  print(f\"Training policy: Epoch {i+1}\", end=\" Loss \")\n",
        "  print(pi.hf_train())"
      ],
      "metadata": {
        "colab": {
          "base_uri": "https://localhost:8080/"
        },
        "id": "fgazxT0fo7eo",
        "outputId": "762d47e3-ec09-43a2-ddd5-015c55dd0b72"
      },
      "execution_count": 13,
      "outputs": [
        {
          "output_type": "stream",
          "name": "stdout",
          "text": [
            "Training policy: Epoch 1 Loss 1.004501\n",
            "Training policy: Epoch 2 Loss 1.0097027\n",
            "Training policy: Epoch 3 Loss 1.0152718\n",
            "Training policy: Epoch 4 Loss 1.0143979\n",
            "Training policy: Epoch 5 Loss 1.0099028\n"
          ]
        }
      ]
    },
    {
      "cell_type": "code",
      "source": [
        "for i in range(5):\n",
        "  a, o = pi.get_queries()\n",
        "  hf.display(a, o)"
      ],
      "metadata": {
        "id": "lohMC6Went01"
      },
      "execution_count": 14,
      "outputs": []
    },
    {
      "cell_type": "code",
      "source": [],
      "metadata": {
        "id": "cpOlgmAVxoEL"
      },
      "execution_count": 14,
      "outputs": []
    }
  ]
}